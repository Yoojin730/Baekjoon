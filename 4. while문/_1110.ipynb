{
  "nbformat": 4,
  "nbformat_minor": 0,
  "metadata": {
    "colab": {
      "name": "#1110.ipynb",
      "provenance": [],
      "collapsed_sections": []
    },
    "kernelspec": {
      "name": "python3",
      "display_name": "Python 3"
    },
    "language_info": {
      "name": "python"
    }
  },
  "cells": [
    {
      "cell_type": "code",
      "execution_count": null,
      "metadata": {
        "id": "VjNl4lR8lDOL"
      },
      "outputs": [],
      "source": [
        "n = int(input())         # 68\n",
        "num = n\n",
        "cnt = 0                  # 사이클 수\n",
        "\n",
        "while True:              # while 1이랑 동일\n",
        "    a = num // 10        # 6\n",
        "    b = num % 10         # 8\n",
        "    c = (a + b) % 10     # 6 + 8 = 1\"4\"\n",
        "    num = (b * 10) + c   # 80 + 4 = 84\n",
        "\n",
        "    cnt = cnt + 1        # 사이클 수 + 1\n",
        "    if(num == n):        # num에서 입력된 n과 똑같은 숫자(68)가 나오면 멈춤\n",
        "        break\n",
        "\n",
        "print(cnt)"
      ]
    },
    {
      "cell_type": "code",
      "source": [
        "n = input()                               # n = \"26\"\n",
        "num = n\n",
        "cnt = 0\n",
        "\n",
        "while 1:\n",
        "   if len(num) == 1:\n",
        "      num = \"0\" + num\n",
        "   plus = str(int(num[0]) + int(num[1]))  # 2 + 6 = \"8\"\n",
        "   num = num[-1] + plus[-1]               # \"6\" + \"8\" = \"68\"\n",
        "   cnt += 1\n",
        "   if num == n:\n",
        "      print(cnt)\n",
        "      break"
      ],
      "metadata": {
        "id": "VuX-UtXzlQEM"
      },
      "execution_count": null,
      "outputs": []
    }
  ]
}