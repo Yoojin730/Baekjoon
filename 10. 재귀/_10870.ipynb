{
  "nbformat": 4,
  "nbformat_minor": 0,
  "metadata": {
    "colab": {
      "name": "#10870.ipynb",
      "provenance": []
    },
    "kernelspec": {
      "name": "python3",
      "display_name": "Python 3"
    },
    "language_info": {
      "name": "python"
    }
  },
  "cells": [
    {
      "cell_type": "code",
      "execution_count": null,
      "metadata": {
        "id": "HZTBX5UsLOB5"
      },
      "outputs": [],
      "source": [
        "### 재귀함수\n",
        "\n",
        "def fibonacci(n):\n",
        "    if n <= 1:\n",
        "        return n\n",
        "    return fibonacci(n-1) + fibonacci(n-2)\n",
        "\n",
        "n = int(input())\n",
        "print(fibonacci(n))"
      ]
    },
    {
      "cell_type": "code",
      "source": [
        "### for문\n",
        "n = int(input())\n",
        "\n",
        "fibonacci = [0, 1]\n",
        "for i in range(2, n+1):\n",
        "    num = fibonacci[i-1] + fibonacci[i-2]\n",
        "    fibonacci.append(num)\n",
        "print(fibonacci[n])"
      ],
      "metadata": {
        "id": "gUw2iDBGLRbO"
      },
      "execution_count": null,
      "outputs": []
    }
  ]
}