{
  "nbformat": 4,
  "nbformat_minor": 0,
  "metadata": {
    "colab": {
      "name": "#10818.ipynb",
      "provenance": [],
      "authorship_tag": "ABX9TyM7HWylkNiSkc3Vp5jAG7M3",
      "include_colab_link": true
    },
    "kernelspec": {
      "name": "python3",
      "display_name": "Python 3"
    },
    "language_info": {
      "name": "python"
    }
  },
  "cells": [
    {
      "cell_type": "markdown",
      "metadata": {
        "id": "view-in-github",
        "colab_type": "text"
      },
      "source": [
        "<a href=\"https://colab.research.google.com/github/Yoojin730/Baekjoon/blob/main/_10818.ipynb\" target=\"_parent\"><img src=\"https://colab.research.google.com/assets/colab-badge.svg\" alt=\"Open In Colab\"/></a>"
      ]
    },
    {
      "cell_type": "code",
      "source": [
        "#10818번"
      ],
      "metadata": {
        "id": "7nkEoaoRpIaI"
      },
      "execution_count": null,
      "outputs": []
    },
    {
      "cell_type": "code",
      "source": [
        "import sys "
      ],
      "metadata": {
        "id": "dR8V35CfpQTa"
      },
      "execution_count": null,
      "outputs": []
    },
    {
      "cell_type": "code",
      "source": [
        "a = [int(s) for s in sys.stdin.read().split()[1:]] \n",
        "print(min(a), max(a))"
      ],
      "metadata": {
        "id": "ghak20bNlMhb"
      },
      "execution_count": null,
      "outputs": []
    },
    {
      "cell_type": "code",
      "source": [
        "a = sorted(int(s) for s in sys.stdin.read().split()[1:]) #정렬 먼저\n",
        "print(a[0], a[-1]) #맨 앞, 맨 뒤 == 최소, 최대"
      ],
      "metadata": {
        "id": "kdKFtd3OpB2L"
      },
      "execution_count": null,
      "outputs": []
    },
    {
      "cell_type": "code",
      "source": [
        "import sys, heapq as hq \n",
        "\n",
        "#우선순위 큐 알고리즘이라고도 하는 힙(heap) 큐 알고리즘은 이진 트리로 정렬하여 최소값을 빠르게 가져옴\n",
        "### 큐 알고리즘 추가 학습\n",
        "\n",
        "a = [int(s) for s in sys.stdin.read().split()[1:]] \n",
        "hq.heapify(a) \n",
        "print(*hq.nsmallest(1, a), *hq.nlargest(1, a))"
      ],
      "metadata": {
        "colab": {
          "base_uri": "https://localhost:8080/"
        },
        "id": "9LnmNiMLpCIh",
        "outputId": "2969c8fd-5280-4184-8c70-71a6a580cd1c"
      },
      "execution_count": 9,
      "outputs": [
        {
          "output_type": "stream",
          "name": "stdout",
          "text": [
            "\n"
          ]
        }
      ]
    },
    {
      "cell_type": "code",
      "source": [
        ""
      ],
      "metadata": {
        "id": "GsBwzQKGpeIO"
      },
      "execution_count": null,
      "outputs": []
    }
  ]
}