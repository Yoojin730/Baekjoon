{
  "nbformat": 4,
  "nbformat_minor": 0,
  "metadata": {
    "colab": {
      "name": "#10818.ipynb",
      "provenance": []
    },
    "kernelspec": {
      "name": "python3",
      "display_name": "Python 3"
    },
    "language_info": {
      "name": "python"
    }
  },
  "cells": [
    {
      "cell_type": "code",
      "source": [
        "#10818번"
      ],
      "metadata": {
        "id": "7nkEoaoRpIaI"
      },
      "execution_count": null,
      "outputs": []
    },
    {
      "cell_type": "code",
      "source": [
        "import sys "
      ],
      "metadata": {
        "id": "dR8V35CfpQTa"
      },
      "execution_count": 17,
      "outputs": []
    },
    {
      "cell_type": "code",
      "source": [
        "a = [int(s) for s in sys.stdin.read().split()[1:]] \n",
        "print(min(a), max(a))"
      ],
      "metadata": {
        "id": "ghak20bNlMhb"
      },
      "execution_count": 22,
      "outputs": []
    },
    {
      "cell_type": "code",
      "source": [
        "a = sorted(int(s) for s in sys.stdin.read().split()[1:]) #정렬 먼저\n",
        "print(a[0], a[-1]) #맨 앞, 맨 뒤 == 최소, 최대"
      ],
      "metadata": {
        "id": "kdKFtd3OpB2L"
      },
      "execution_count": null,
      "outputs": []
    },
    {
      "cell_type": "code",
      "source": [
        "import sys, heapq as hq \n",
        "\n",
        "#우선순위 큐 알고리즘이라고도 하는 힙(heap) 큐 알고리즘은 이진 트리로 정렬하여 최소값을 빠르게 가져옴\n",
        "### 큐 알고리즘 추가 학습\n",
        "\n",
        "a = [int(s) for s in sys.stdin.read().split()[1:]] \n",
        "hq.heapify(a) \n",
        "print(*hq.nsmallest(1, a), *hq.nlargest(1, a))"
      ],
      "metadata": {
        "colab": {
          "base_uri": "https://localhost:8080/"
        },
        "id": "9LnmNiMLpCIh",
        "outputId": "c5806464-b271-4e7b-d994-4830a2409d10"
      },
      "execution_count": 12,
      "outputs": [
        {
          "output_type": "stream",
          "name": "stdout",
          "text": [
            "\n"
          ]
        }
      ]
    }
  ]
}